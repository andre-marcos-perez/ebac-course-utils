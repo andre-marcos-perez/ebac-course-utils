{
  "nbformat": 4,
  "nbformat_minor": 0,
  "metadata": {
    "colab": {
      "name": "2021-11-18.ipynb",
      "provenance": [],
      "collapsed_sections": [],
      "toc_visible": true
    },
    "kernelspec": {
      "name": "python3",
      "display_name": "Python 3"
    }
  },
  "cells": [
    {
      "cell_type": "markdown",
      "metadata": {
        "id": "KJqp9AANOCtf"
      },
      "source": [
        "<img src=\"https://raw.githubusercontent.com/andre-marcos-perez/ebac-course-utils/main/media/logo/newebac_logo_black_half.png\" alt=\"ebac-logo\">\n",
        "\n",
        "---\n",
        "\n",
        "# **Aula** | Análise Exploratória de Dados com Python\n",
        "Professor [André Perez](https://www.linkedin.com/in/andremarcosperez/)<br>\n",
        "18/11/2021\n",
        "\n",
        "---"
      ]
    },
    {
      "cell_type": "markdown",
      "metadata": {
        "id": "d9jDtUbDOE1-"
      },
      "source": [
        "# **Tópicos**\n",
        "\n",
        "<ol type=\"1\">\n",
        "  <li>Introdução;</li>\n",
        "  <li>Análise Exploratória;</li>\n",
        "  <li>Agrupamento;</li>\n",
        "  <li>Predição.</li>\n",
        "</ol>"
      ]
    },
    {
      "cell_type": "markdown",
      "metadata": {
        "id": "SmoHgt-lwkpD"
      },
      "source": [
        "---"
      ]
    },
    {
      "cell_type": "markdown",
      "metadata": {
        "id": "GABI6OW8OfQ2"
      },
      "source": [
        "# **Aulas**"
      ]
    },
    {
      "cell_type": "markdown",
      "metadata": {
        "id": "muD1vxozykSC"
      },
      "source": [
        "## 1\\. Introdução"
      ]
    },
    {
      "cell_type": "markdown",
      "metadata": {
        "id": "MHESfVrl-rPV"
      },
      "source": [
        "### **1.1. Motivação** "
      ]
    },
    {
      "cell_type": "markdown",
      "metadata": {
        "id": "jRY2EsM09Dpk"
      },
      "source": [
        "> Um shopping quer **segmentar** seus clientes para melhorar ações de marketing. Para isso, organiza um **programa de fidelidade** no qual os clientes cadastrados trocam suas **notas fiscais** de compra em lojas do shopping por **bilhetes** de um sorteio."
      ]
    },
    {
      "cell_type": "markdown",
      "metadata": {
        "id": "UrsxlQhH7WrD"
      },
      "source": [
        "O objetivo é:"
      ]
    },
    {
      "cell_type": "markdown",
      "metadata": {
        "id": "NV3YUo--ygNP"
      },
      "source": [
        " - Encontrar um conjunto de **perfis médios**;\n",
        " - **Alocar** os clientes ao perfil mais **próximo**."
      ]
    },
    {
      "cell_type": "markdown",
      "metadata": {
        "id": "R0YGX02Wyn1n"
      },
      "source": [
        "Exemplo:"
      ]
    },
    {
      "cell_type": "markdown",
      "metadata": {
        "id": "kLUzy2famcTg"
      },
      "source": [
        " - Grupos"
      ]
    },
    {
      "cell_type": "markdown",
      "metadata": {
        "id": "oCDhIc7bmiy6"
      },
      "source": [
        "| Grupo | Idade | Renda |\n",
        "| ----- | ----- | ----- |\n",
        "| 1     | 30    | 40    |\n",
        "| 2     | 57    | 90    |"
      ]
    },
    {
      "cell_type": "markdown",
      "metadata": {
        "id": "9CeSXw_lmfSk"
      },
      "source": [
        " - Clientes"
      ]
    },
    {
      "cell_type": "markdown",
      "metadata": {
        "id": "DTTTIraHnEfD"
      },
      "source": [
        "| Cliente | Idade | Renda | Grupo |\n",
        "| ------- | ----- | ----- | ----- |\n",
        "| 1       | 27    | 50    | 1"
      ]
    },
    {
      "cell_type": "markdown",
      "metadata": {
        "id": "3NMWW5KhyzTh"
      },
      "source": [
        "Para isso, precisamos responder:"
      ]
    },
    {
      "cell_type": "markdown",
      "metadata": {
        "id": "peBjXQrnK_ZG"
      },
      "source": [
        "> Qual a **quantidade** de grupos?\n",
        "\n",
        "> Qual são as **características** de cada grupos?\n",
        "\n",
        "> Como calcular a **distância** entre o grupo e os clientes?"
      ]
    },
    {
      "cell_type": "markdown",
      "metadata": {
        "id": "PD0FiM7UJOGT"
      },
      "source": [
        "## 2\\. Análise Exploratória"
      ]
    },
    {
      "cell_type": "markdown",
      "metadata": {
        "id": "JefUxRzmzJtG"
      },
      "source": [
        "Vamos começar importanto todas as bibliotecas para realizar a análise."
      ]
    },
    {
      "cell_type": "code",
      "metadata": {
        "id": "cyZNZR1du3lw"
      },
      "source": [
        "import numpy as np\n",
        "import pandas as pd\n",
        "import seaborn as sns\n",
        "import matplotlib.pyplot as plt"
      ],
      "execution_count": null,
      "outputs": []
    },
    {
      "cell_type": "markdown",
      "metadata": {
        "id": "JVCVazeBdofb"
      },
      "source": [
        "### **2.1. Coleta** "
      ]
    },
    {
      "cell_type": "markdown",
      "metadata": {
        "id": "Hc5TSKlSbo2l"
      },
      "source": [
        "Neste aula, vamos utilizar dados sobre a **sexo**, **idade**, **renda** e **potencial de compra** de clientes participantes. O conjunto de dados foi inspirado no conjunto de dados do Kaggle, presente neste [link](https://www.kaggle.com/vjchoudhary7/customer-segmentation-tutorial-in-python). "
      ]
    },
    {
      "cell_type": "code",
      "metadata": {
        "id": "9Xzq2BIju590"
      },
      "source": [
        "!wget -q \"https://raw.githubusercontent.com/andre-marcos-perez/ebac-course-utils/main/dataset/mall_customers.csv\" -O mall.csv "
      ],
      "execution_count": null,
      "outputs": []
    },
    {
      "cell_type": "markdown",
      "metadata": {
        "id": "vd60mZE-d0MP"
      },
      "source": [
        "### **2.2. Pré-processamento** "
      ]
    },
    {
      "cell_type": "markdown",
      "metadata": {
        "id": "6rAbAG6w-g1I"
      },
      "source": [
        "Vamos conhecer um pouco melhor o conjunto de dados."
      ]
    },
    {
      "cell_type": "code",
      "metadata": {
        "id": "i2XMxOALx9v3"
      },
      "source": [
        "mall = pd.read_csv('./mall.csv', sep=',')"
      ],
      "execution_count": null,
      "outputs": []
    },
    {
      "cell_type": "code",
      "metadata": {
        "id": "Lg0QWBM1vHlL"
      },
      "source": [
        "mall.tail(10)"
      ],
      "execution_count": null,
      "outputs": []
    },
    {
      "cell_type": "code",
      "metadata": {
        "id": "J83VLcdfdSoo"
      },
      "source": [
        "mall.shape"
      ],
      "execution_count": null,
      "outputs": []
    },
    {
      "cell_type": "code",
      "metadata": {
        "id": "hFW_zH8nvuJJ"
      },
      "source": [
        "mall.info()"
      ],
      "execution_count": null,
      "outputs": []
    },
    {
      "cell_type": "markdown",
      "metadata": {
        "id": "6yCnG98GjLvd"
      },
      "source": [
        "Vamos processar os dados para facilitar a sua exploração."
      ]
    },
    {
      "cell_type": "markdown",
      "metadata": {
        "id": "Rsi-YkFyhVi7"
      },
      "source": [
        " - Remover a coluna `id`:"
      ]
    },
    {
      "cell_type": "code",
      "metadata": {
        "id": "KmqybaT8fPBk"
      },
      "source": [
        "mall = mall.drop('id', axis=1)"
      ],
      "execution_count": null,
      "outputs": []
    },
    {
      "cell_type": "code",
      "metadata": {
        "id": "iDHCn9Alhtft"
      },
      "source": [
        "mall.head()"
      ],
      "execution_count": null,
      "outputs": []
    },
    {
      "cell_type": "markdown",
      "metadata": {
        "id": "qYHVTaybhdPu"
      },
      "source": [
        " - Normalizar a coluna `gender`:"
      ]
    },
    {
      "cell_type": "code",
      "metadata": {
        "id": "Ykms1WfohdPx"
      },
      "source": [
        "mall['gender'] = mall['gender'].apply(lambda gender: gender.lower())"
      ],
      "execution_count": null,
      "outputs": []
    },
    {
      "cell_type": "code",
      "metadata": {
        "id": "9pxL85iehuKX"
      },
      "source": [
        "mall.head()"
      ],
      "execution_count": null,
      "outputs": []
    },
    {
      "cell_type": "markdown",
      "metadata": {
        "id": "AAwJC4RyS0xa"
      },
      "source": [
        "### **2.3. Exploração** "
      ]
    },
    {
      "cell_type": "markdown",
      "metadata": {
        "id": "BLA8rDqRz8_O"
      },
      "source": [
        "Vamos começar nossa análise resumindo quantitativamente nossos dados."
      ]
    },
    {
      "cell_type": "markdown",
      "metadata": {
        "id": "CIhChK4YiQFP"
      },
      "source": [
        " - Variáveis numéricas"
      ]
    },
    {
      "cell_type": "code",
      "metadata": {
        "id": "ds7JsOTkefwO"
      },
      "source": [
        "mall.describe().T"
      ],
      "execution_count": null,
      "outputs": []
    },
    {
      "cell_type": "markdown",
      "metadata": {
        "id": "-xsf94XJiU-s"
      },
      "source": [
        " - Variáveis categóricas"
      ]
    },
    {
      "cell_type": "code",
      "metadata": {
        "id": "RclbEzmDiJza"
      },
      "source": [
        "mall[['gender']].describe().T"
      ],
      "execution_count": null,
      "outputs": []
    },
    {
      "cell_type": "markdown",
      "metadata": {
        "id": "Jp1bEm-R0TtQ"
      },
      "source": [
        "Vamos agora para um resumo qualitativo através de visualizações de dados."
      ]
    },
    {
      "cell_type": "markdown",
      "metadata": {
        "id": "eMa6693UeyfJ"
      },
      "source": [
        "O gráfico de **boxplot** é uma das melhores formas de resumir visualmente um conjunto de dados."
      ]
    },
    {
      "cell_type": "code",
      "metadata": {
        "id": "vv_urHBsfBq2"
      },
      "source": [
        "with sns.axes_style('whitegrid'):\n",
        "\n",
        "  grafico = sns.boxplot(data=mall, x='age', y=\"gender\", palette=\"pastel\")\n",
        "  grafico.set(title='Distribuição de Idade por Sexo', xlabel='Idade (anos)',  ylabel='Sexo');"
      ],
      "execution_count": null,
      "outputs": []
    },
    {
      "cell_type": "code",
      "metadata": {
        "id": "1T3DKVHDid_c"
      },
      "source": [
        "with sns.axes_style('whitegrid'):\n",
        "\n",
        "  grafico = sns.boxplot(data=mall, x='income', y=\"gender\", palette=\"pastel\")\n",
        "  grafico.set(title='Distribuição de Renda por Sexo', xlabel='Renda Anual (milhares de USD)',  ylabel='Sexo');"
      ],
      "execution_count": null,
      "outputs": []
    },
    {
      "cell_type": "code",
      "metadata": {
        "id": "_dVzB48kiejY"
      },
      "source": [
        "with sns.axes_style('whitegrid'):\n",
        "\n",
        "  grafico = sns.boxplot(data=mall, x='score', y=\"gender\", palette=\"pastel\")\n",
        "  grafico.set(title='Distribuição de Pontuação por Sexo', xlabel='Pontos',  ylabel='Sexo');"
      ],
      "execution_count": null,
      "outputs": []
    },
    {
      "cell_type": "markdown",
      "metadata": {
        "id": "Uy7aLx55kWJ5"
      },
      "source": [
        "O **pairplot** é um método do pacote Python Seaborn que gera visualizações para cada par de colunas do conjunto de dados."
      ]
    },
    {
      "cell_type": "code",
      "metadata": {
        "id": "ajqB2flYmiSv"
      },
      "source": [
        "with sns.axes_style('whitegrid'):\n",
        "  grafico = sns.pairplot(data=mall, hue=\"gender\", palette=\"pastel\")"
      ],
      "execution_count": null,
      "outputs": []
    },
    {
      "cell_type": "markdown",
      "metadata": {
        "id": "9zCdAJq4eaDu"
      },
      "source": [
        "### **2.3. Processamento** "
      ]
    },
    {
      "cell_type": "markdown",
      "metadata": {
        "id": "dBILeTu4vbYH"
      },
      "source": [
        "Nota-se que o perfil de compras de clientes de **sexo** diferentes parece ser o mesmo, não contribuindo assim para a segregação da base. Vamos então selecionar os atributos que de fato podem ajudar na segregação dos cliente: **idade**, **renda** e a **pontuação de compra**."
      ]
    },
    {
      "cell_type": "code",
      "metadata": {
        "id": "i9VYQ80_vmXA"
      },
      "source": [
        "data = mall[[\"age\",\t\"income\",\t\"score\"]]"
      ],
      "execution_count": null,
      "outputs": []
    },
    {
      "cell_type": "code",
      "metadata": {
        "id": "iGIniXnH4UvN"
      },
      "source": [
        "data.head()"
      ],
      "execution_count": null,
      "outputs": []
    },
    {
      "cell_type": "markdown",
      "metadata": {
        "id": "RRskF8b9S48N"
      },
      "source": [
        "## 3\\. Agrupamento"
      ]
    },
    {
      "cell_type": "markdown",
      "metadata": {
        "id": "DTQw4hBB0sQp"
      },
      "source": [
        "Para agrupar os dados em diferentes grupos, vamos utilizar um modelo de aprendizado de máquina não supervisionado conhecido como **K-Médias**."
      ]
    },
    {
      "cell_type": "markdown",
      "metadata": {
        "id": "CYD_f4C_yxKF"
      },
      "source": [
        "### **3.1. Algoritmo** "
      ]
    },
    {
      "cell_type": "markdown",
      "metadata": {
        "id": "x3MbgWxe0-zj"
      },
      "source": [
        "Segue uma breve explicação intuitiva sobre o funcionamento do algoritmo do modelo."
      ]
    },
    {
      "cell_type": "code",
      "metadata": {
        "id": "uVUJ8LVWoV0a"
      },
      "source": [
        "with sns.axes_style('whitegrid'):\n",
        "\n",
        "  grafico = sns.scatterplot(data=data, x='income', y=\"score\", palette=\"pastel\")\n",
        "  grafico.set(title='Renda e Pontuação', xlabel='Renda Anual (milhares de USD)',  ylabel='Pontos')\n",
        "  grafico.figure.set_size_inches(15, 7.5)"
      ],
      "execution_count": null,
      "outputs": []
    },
    {
      "cell_type": "markdown",
      "metadata": {
        "id": "7dO0cswwn2VP"
      },
      "source": [
        "### **3.2. Modelagem**"
      ]
    },
    {
      "cell_type": "markdown",
      "metadata": {
        "id": "PzvtujRp1KHA"
      },
      "source": [
        "Começamos importando a biblioteca do modelo."
      ]
    },
    {
      "cell_type": "code",
      "metadata": {
        "id": "42_N-GTAnjcc"
      },
      "source": [
        "from sklearn.cluster import KMeans"
      ],
      "execution_count": null,
      "outputs": []
    },
    {
      "cell_type": "markdown",
      "metadata": {
        "id": "iSuj9wrb1Spj"
      },
      "source": [
        "Vamos treinar o modelo com 5 grupos, também conhecidos como **clusters**."
      ]
    },
    {
      "cell_type": "code",
      "metadata": {
        "id": "Lr2P22cbLNRL"
      },
      "source": [
        "model = KMeans(n_clusters=5)\n",
        "model = model.fit(data)"
      ],
      "execution_count": null,
      "outputs": []
    },
    {
      "cell_type": "markdown",
      "metadata": {
        "id": "eO6YMxooh0Rg"
      },
      "source": [
        "Com o modelo treinado, podemos visualizar os agrupamentos:"
      ]
    },
    {
      "cell_type": "code",
      "metadata": {
        "id": "JZGzKM-xL8yx"
      },
      "source": [
        "clusters = model.labels_\n",
        "clusters = pd.DataFrame(clusters, columns=['cluster'])\n",
        "clustered_data = pd.concat([data, clusters], axis=1)\n",
        "clustered_data.head()"
      ],
      "execution_count": null,
      "outputs": []
    },
    {
      "cell_type": "code",
      "metadata": {
        "id": "djF_u5iKMuRW"
      },
      "source": [
        "with sns.axes_style('whitegrid'):\n",
        "\n",
        "  grafico = sns.pairplot(data=clustered_data, hue='cluster', palette=\"pastel\")"
      ],
      "execution_count": null,
      "outputs": []
    },
    {
      "cell_type": "markdown",
      "metadata": {
        "id": "Y_0oL-KoLzbV"
      },
      "source": [
        "Pode-se também observar a características dos centróides ou **perfis médios**:"
      ]
    },
    {
      "cell_type": "code",
      "metadata": {
        "id": "u5ldQAUnh1qa"
      },
      "source": [
        "clusters_centers = model.cluster_centers_\n",
        "clusters_centers = pd.DataFrame(clusters_centers, columns=['age', 'income', 'score'])\n",
        "clusters_centers.head()"
      ],
      "execution_count": null,
      "outputs": []
    },
    {
      "cell_type": "code",
      "metadata": {
        "id": "B5zPuHFtiV_z"
      },
      "source": [
        "with sns.axes_style('whitegrid'):\n",
        "\n",
        "  fig, ax = plt.subplots()\n",
        "  sns.scatterplot(data=clustered_data,   x='income', y='score', hue='cluster', palette=\"pastel\", ax=ax)\n",
        "  sns.scatterplot(data=clusters_centers, x='income', y='score', color='black', ax=ax)"
      ],
      "execution_count": null,
      "outputs": []
    },
    {
      "cell_type": "markdown",
      "metadata": {
        "id": "TgLJVqhrQowN"
      },
      "source": [
        "### **3.3. Avaliação** "
      ]
    },
    {
      "cell_type": "markdown",
      "metadata": {
        "id": "MR7dJWdR12tM"
      },
      "source": [
        "> Seria 5 a melhor quantidade de grupos?"
      ]
    },
    {
      "cell_type": "markdown",
      "metadata": {
        "id": "uO5oxIqj865y"
      },
      "source": [
        "Para responder essa pergunta, utilizamos o **método do cotovelo** que busca balancear erro e quantidade de grupos."
      ]
    },
    {
      "cell_type": "code",
      "metadata": {
        "id": "CgDOy60luqe2"
      },
      "source": [
        "wcss = []\n",
        "\n",
        "for k in range(1, 11):\n",
        "\n",
        "  model = KMeans(n_clusters=k)\n",
        "  model = model.fit(data)\n",
        "  wcss.append(model.inertia_)"
      ],
      "execution_count": null,
      "outputs": []
    },
    {
      "cell_type": "code",
      "metadata": {
        "id": "W5WL82aroAsS"
      },
      "source": [
        "with sns.axes_style('whitegrid'):\n",
        "\n",
        "  grafico = sns.lineplot(x=range(1, 11), y=wcss, marker=\"8\", palette=\"pastel\")\n",
        "  grafico.set(title='Método do Cotovelo', ylabel='WCSS (Erro)', xlabel='Qtd. clusters');"
      ],
      "execution_count": null,
      "outputs": []
    },
    {
      "cell_type": "markdown",
      "metadata": {
        "id": "GxvzBzfT18FI"
      },
      "source": [
        "De acordo com o método do cotovelo, vamos seguir com 5 grupos."
      ]
    },
    {
      "cell_type": "code",
      "metadata": {
        "id": "cz2crz8kuyq4"
      },
      "source": [
        "model = KMeans(n_clusters=5)\n",
        "model = model.fit(data)"
      ],
      "execution_count": null,
      "outputs": []
    },
    {
      "cell_type": "markdown",
      "metadata": {
        "id": "1tFropRYrOiy"
      },
      "source": [
        "## 4\\. Predição"
      ]
    },
    {
      "cell_type": "markdown",
      "metadata": {
        "id": "MARJtzoXrOiz"
      },
      "source": [
        "Com o modelo treinado, avaliado e selecionado, podemos utiliza-lo para resolver os problemas reais que motivaram sua construção."
      ]
    },
    {
      "cell_type": "markdown",
      "metadata": {
        "id": "MfMSaIR_SwdY"
      },
      "source": [
        "### **4.1. Estudo dos clusters** "
      ]
    },
    {
      "cell_type": "markdown",
      "metadata": {
        "id": "gJrrv71RY0h7"
      },
      "source": [
        "Para direcionar as ações de marketing, precisamos entender melhor o perfil dos clientes dos clusters de interesse através de técnicas de analise exploratória de dados (EDA). Exemplo:"
      ]
    },
    {
      "cell_type": "markdown",
      "metadata": {
        "id": "f63sI1ukb1wH"
      },
      "source": [
        " - **Cluster ?**"
      ]
    },
    {
      "cell_type": "markdown",
      "metadata": {
        "id": "i3Tva76vb1wJ"
      },
      "source": [
        "São cliente com **alta renda** mas **baixo potencial** de compras médio. Poderiam estar gastando mais."
      ]
    },
    {
      "cell_type": "code",
      "metadata": {
        "id": "kfbHe_fAb1wK"
      },
      "source": [
        "with sns.axes_style('whitegrid'):\n",
        "\n",
        "  grafico = sns.scatterplot(data=clustered_data.query('cluster == 1'), x=\"age\", y=\"income\", hue=\"cluster\", palette=\"pastel\")\n",
        "  grafico.set(title='Cluster 1 | Distribuição de Renda e Idade', xlabel='Idade (anos)', ylabel='Renda anual (milhares de USD)');\n",
        "  grafico.get_legend().set_title(\"Cluster\");"
      ],
      "execution_count": null,
      "outputs": []
    },
    {
      "cell_type": "markdown",
      "metadata": {
        "id": "YgJlAlxUb1wP"
      },
      "source": [
        "**Conclusão:** Focar esforços para um público acima de 35 anos."
      ]
    },
    {
      "cell_type": "markdown",
      "metadata": {
        "id": "otS_PqmvS15D"
      },
      "source": [
        "### **4.2. Inferência** "
      ]
    },
    {
      "cell_type": "code",
      "metadata": {
        "id": "5ogupUpDu8Oy"
      },
      "source": [
        "clusters_centers.head()"
      ],
      "execution_count": null,
      "outputs": []
    },
    {
      "cell_type": "markdown",
      "metadata": {
        "id": "wzd1cGf-zGf7"
      },
      "source": [
        " - **Exemplo**: Um cliente com 19 anos, 15.000 USD de renda anual e potencial de compra de 39:\n"
      ]
    },
    {
      "cell_type": "code",
      "metadata": {
        "id": "jQwcsJlXzF4E"
      },
      "source": [
        "cliente = pd.DataFrame.from_records(dict(age=[19], income=[15], score=[39]))"
      ],
      "execution_count": null,
      "outputs": []
    },
    {
      "cell_type": "code",
      "metadata": {
        "id": "cmGFtU24uVzi"
      },
      "source": [
        "cliente.head()"
      ],
      "execution_count": null,
      "outputs": []
    },
    {
      "cell_type": "code",
      "metadata": {
        "id": "FlpoQB7ty9EX"
      },
      "source": [
        "int(model.predict(cliente))"
      ],
      "execution_count": null,
      "outputs": []
    },
    {
      "cell_type": "markdown",
      "metadata": {
        "id": "q5r8BvcE2Fbu"
      },
      "source": [
        "Conclui-se então que o cliente pertence ao cluster **?** de baixa renda, idade e potencial de compra."
      ]
    }
  ]
}